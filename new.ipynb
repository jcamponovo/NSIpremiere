{
 "cells": [
  {
   "cell_type": "code",
   "execution_count": 2,
   "metadata": {
    "hide_input": true,
    "hide_output": true,
    "init_cell": true,
    "run_control": {
     "marked": false
    }
   },
   "outputs": [
    {
     "data": {
      "application/javascript": [
       "\n",
       "function repeter(){\n",
       "IPython.notebook.kernel.execute(\"kernelsurvivor = 1\");\n",
       "}\n",
       "// execute a = 1 en python toutes les 8 minutes pendant 2h\n",
       "let timerId = setInterval(() => repeter(), 4800);\n",
       "setTimeout(() => { clearInterval(timerId); alert('fin de cession'); }, 7200000);\n",
       "\n",
       "// Supprimer la taille limite pour la sortie d'une cellule\n",
       "IPython.OutputArea.prototype._should_scroll = function(lines) {\n",
       "    return false;\n",
       "};\n",
       "IPython.notebook.kernel.execute(\"url = '\" + window.location + \"'\");\n",
       "\n",
       "// Exécuter toutes les cellule du notebook\n",
       "    require(\n",
       "        ['base/js/namespace', 'jquery'], \n",
       "        function(jupyter, $) {\n",
       "            \n",
       "                \n",
       "                jupyter.actions.call('jupyter-notebook:run-all-cells-below');\n",
       "                jupyter.actions.call('jupyter-notebook:save-notebook');\n",
       "\n",
       "        }\n",
       "    );"
      ],
      "text/plain": [
       "<IPython.core.display.Javascript object>"
      ]
     },
     "execution_count": 2,
     "metadata": {},
     "output_type": "execute_result"
    }
   ],
   "source": [
    "# Permet de tout executer au lancement du notebook + conserver le notebook actif pendant 2h\n",
    "from IPython.display import Javascript\n",
    "Javascript(\"\"\"\n",
    "function repeter(){\n",
    "IPython.notebook.kernel.execute(\"kernelsurvivor = 1\");\n",
    "}\n",
    "// execute a = 1 en python toutes les 8 minutes pendant 2h\n",
    "let timerId = setInterval(() => repeter(), 4800);\n",
    "setTimeout(() => { clearInterval(timerId); alert('fin de cession'); }, 7200000);\n",
    "\n",
    "// Supprimer la taille limite pour la sortie d'une cellule\n",
    "IPython.OutputArea.prototype._should_scroll = function(lines) {\n",
    "    return false;\n",
    "};\n",
    "IPython.notebook.kernel.execute(\"url = '\" + window.location + \"'\");\n",
    "\n",
    "// Exécuter toutes les cellule du notebook\n",
    "    require(\n",
    "        ['base/js/namespace', 'jquery'], \n",
    "        function(jupyter, $) {\n",
    "            \n",
    "                \n",
    "                jupyter.actions.call('jupyter-notebook:run-all-cells-below');\n",
    "                jupyter.actions.call('jupyter-notebook:save-notebook');\n",
    "\n",
    "        }\n",
    "    );\"\"\")"
   ]
  },
  {
   "cell_type": "code",
   "execution_count": 3,
   "metadata": {
    "hide_input": true,
    "run_control": {
     "marked": true
    }
   },
   "outputs": [
    {
     "data": {
      "application/vnd.jupyter.widget-view+json": {
       "model_id": "e992ef9f9d214ecf93e5a300694ca431",
       "version_major": 2,
       "version_minor": 0
      },
      "text/plain": [
       "HBox(children=(HTML(value='<a href = ../../apps/environnement.ipynb target = _blank>Menu</a>'), Button(descrip…"
      ]
     },
     "metadata": {},
     "output_type": "display_data"
    },
    {
     "data": {
      "application/vnd.jupyter.widget-view+json": {
       "model_id": "0c6f3d9f47e747de88cda6c15da68015",
       "version_major": 2,
       "version_minor": 0
      },
      "text/plain": [
       "Label(value='')"
      ]
     },
     "metadata": {},
     "output_type": "display_data"
    },
    {
     "data": {
      "application/vnd.jupyter.widget-view+json": {
       "model_id": "96a5e5b1a25041b3afbcd2ab0cbf53fd",
       "version_major": 2,
       "version_minor": 0
      },
      "text/plain": [
       "HTML(value='')"
      ]
     },
     "metadata": {},
     "output_type": "display_data"
    }
   ],
   "source": [
    "from ipywidgets import Button, HBox, Layout, VBox,Label, HTML,FileUpload\n",
    "import os\n",
    "import time\n",
    "\n",
    "\n",
    "download_bou = Button(\n",
    "    description='Save',\n",
    "    disabled=False,\n",
    "    button_style='', # 'success', 'info', 'warning', 'danger' or ''\n",
    "    tooltip='Save',\n",
    "    icon='download' # (FontAwesome names without the `fa-` prefix)\n",
    ")\n",
    "\n",
    "\n",
    "upload_bou = FileUpload(\n",
    "    description='zip',\n",
    "    disabled=False,\n",
    "    accept=\".zip\",\n",
    "    multiple=False,\n",
    "    tooltip='zip',\n",
    "    icon='upload' # (FontAwesome names without the `fa-` prefix)\n",
    "\n",
    ")\n",
    "\n",
    "message = Label(\n",
    "    value = \"\")\n",
    "\n",
    "menu = HTML(\n",
    "    value = \"<a href = ../../apps/environnement.ipynb target = _blank>Menu</a>\")\n",
    "lien = HTML(\n",
    "    value = \"\")\n",
    "\n",
    "def zipToServer(b):\n",
    "    lien.value = \"\"\n",
    "    path = os.getcwd()\n",
    "    os.chdir(\"/home/jovyan/\")\n",
    "    message.value = \"decompression du fichier de sauvegarde\"\n",
    "    v = upload_bou.value\n",
    "    \n",
    "    with open(next(iter(upload_bou.value)), \"w+b\") as i:\n",
    "        i.write(upload_bou.data[0])\n",
    "    a = os.popen(\"\"\"unzip -o {}\"\"\".format(next(iter(upload_bou.value))))\n",
    "    m = \"\"\n",
    "    for ligne in a:\n",
    "        m += str(ligne)\n",
    "    j = open(\"log_cadaver.txt\",\"a\")\n",
    "    j.write(\"\\n\\n\")\n",
    "    j.write(m)\n",
    "    j.close()\n",
    "    os.chdir(path)\n",
    "    message.value = \"opération terminée avec succès. Cliquez sur le lien ci-dessous pour accéder au menu\"\n",
    "    lien.value = \"<a href = ../../apps/environnement.ipynb target = _blank>Menu</a>\"\n",
    "\n",
    "def reset(b):\n",
    "    lien.value = \"\"\n",
    "    message.value = \"\"\n",
    "    \n",
    "def saveToAtrium(b):\n",
    "    lien.value = \"\"\n",
    "    Javascript(\"\"\"jupyter.actions.call('jupyter-notebook:save-notebook');\"\"\")\n",
    "    path = os.getcwd()\n",
    "    os.chdir(\"/home/jovyan/\")\n",
    "    t = time.localtime()\n",
    "    message.value = \"création du fichier de sauvegarde\"\n",
    "    file = \"nsipremiere{:4d}{:02d}{:02d}{:02d}{:02d}{:02d}.zip\".format(t.tm_year,t.tm_mon,t.tm_mday,t.tm_hour,t.tm_min,t.tm_sec)\n",
    "    a = os.popen(\"\"\"zip -r {} Perso\"\"\".format(file))\n",
    "    m = \"\"\n",
    "    for ligne in a:\n",
    "        m += str(ligne)\n",
    "    j = open(\"log_cadaver.txt\",\"a\")\n",
    "    j.write(\"\\n\\n\")\n",
    "    j.write(m)\n",
    "    j.close()\n",
    "    \n",
    "    #j = open(\".netrc\",\"r\")\n",
    "    #data = j.readlines()\n",
    "    #j.close()\n",
    "    #data = data[1]\n",
    "    #login = data.split(\" \")[1].strip()\n",
    "    \n",
    "    #message.value = \"upload du fichier de sauvegarde vers atrium\"\n",
    "    #j = open(\"datadav\",\"w\")\n",
    "    #j.write(\"cd {}\\ncd document_library\\nput /home/jovyan/nsipremiere{:4d}{:02d}{:02d}{:02d}{:02d}{:02d}.zip\\nexit\".format(login,t.tm_year,t.tm_mon,t.tm_mday,t.tm_hour,t.tm_min,t.tm_sec))\n",
    "    #j.close()\n",
    "    #a = os.popen(\"\"\"cadaver -r datadav https://www.atrium-sud.fr/webdav\"\"\")\n",
    "    #m = \"\"\n",
    "    #for ligne in a:\n",
    "    #    m += str(ligne)\n",
    "    #j = open(\"log_cadaver.txt\",\"a\")\n",
    "    #j.write(\"\\n\\n\")\n",
    "    #j.write(m)\n",
    "    #j.close()\n",
    "    #if \"succeeded\" in m:\n",
    "    #    message.value = \"operation terminée avec succès\"\n",
    "    #else:\n",
    "    #    message.value = m\n",
    "    message.value = \"Sauvegarde réalisée avec succès sur le serveur, cliquez sur le lien ci-dessous pour télécharger le fichier\"\n",
    "    lien.value = \"<a href=../{} download>Télécharger sauvegarde</a>\".format(file)\n",
    "    \n",
    "    os.chdir(path)\n",
    "\n",
    "download_bou.on_click(saveToAtrium)\n",
    "#upload_bou.observe(zipToServer, \"data\")\n",
    "display(HBox([menu,download_bou]))\n",
    "display(message)\n",
    "display(lien)"
   ]
  },
  {
   "cell_type": "code",
   "execution_count": null,
   "metadata": {
    "run_control": {
     "marked": false
    }
   },
   "outputs": [],
   "source": []
  }
 ],
 "metadata": {
  "celltoolbar": "None",
  "kernelspec": {
   "display_name": "Python 3",
   "language": "python",
   "name": "python3"
  },
  "language_info": {
   "codemirror_mode": {
    "name": "ipython",
    "version": 3
   },
   "file_extension": ".py",
   "mimetype": "text/x-python",
   "name": "python",
   "nbconvert_exporter": "python",
   "pygments_lexer": "ipython3",
   "version": "3.7.10"
  },
  "varInspector": {
   "cols": {
    "lenName": 16,
    "lenType": 16,
    "lenVar": 40
   },
   "kernels_config": {
    "python": {
     "delete_cmd_postfix": "",
     "delete_cmd_prefix": "del ",
     "library": "var_list.py",
     "varRefreshCmd": "print(var_dic_list())"
    },
    "r": {
     "delete_cmd_postfix": ") ",
     "delete_cmd_prefix": "rm(",
     "library": "var_list.r",
     "varRefreshCmd": "cat(var_dic_list()) "
    }
   },
   "types_to_exclude": [
    "module",
    "function",
    "builtin_function_or_method",
    "instance",
    "_Feature"
   ],
   "window_display": false
  }
 },
 "nbformat": 4,
 "nbformat_minor": 4
}
