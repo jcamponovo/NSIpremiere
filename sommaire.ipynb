{
 "cells": [
  {
   "cell_type": "code",
   "execution_count": 2,
   "metadata": {},
   "outputs": [
    {
     "data": {
      "application/javascript": [
       "let timerId = setInterval(() => IPython.notebook.kernel.execute(\"kernel_survivor = 1\"), 300000);\n",
       "setTimeout(() => { clearInterval(timerId); alert('fin de cession'); },7200000)"
      ],
      "text/plain": [
       "<IPython.core.display.Javascript object>"
      ]
     },
     "execution_count": 2,
     "metadata": {},
     "output_type": "execute_result"
    }
   ],
   "source": [
    "from IPython.display import Javascript\n",
    "from ipywidgets import FileUpload, Button, HBox, Layout, Dropdown, VBox,Label, Accordion,HTML, Image\n",
    "import os\n",
    "timeout = 120 # minutes\n",
    "Javascript(\"\"\"let timerId = setInterval(() => IPython.notebook.kernel.execute(\"kernel_survivor = 1\"), 300000);\n",
    "setTimeout(() => { clearInterval(timerId); alert('fin de cession'); },\"\"\"+ str(timeout*1000*60)+\")\")"
   ]
  },
  {
   "cell_type": "code",
   "execution_count": 2,
   "metadata": {},
   "outputs": [
    {
     "data": {
      "application/javascript": [
       "Jupyter.actions.call('jupyter-notebook:hide-header')"
      ],
      "text/plain": [
       "<IPython.core.display.Javascript object>"
      ]
     },
     "execution_count": 2,
     "metadata": {},
     "output_type": "execute_result"
    }
   ],
   "source": [
    "Javascript(\"\"\"Jupyter.actions.call('jupyter-notebook:hide-header')\"\"\")"
   ]
  },
  {
   "cell_type": "code",
   "execution_count": 3,
   "metadata": {},
   "outputs": [
    {
     "data": {
      "application/javascript": [
       "Jupyter.actions.call('jupyter-notebook:hide-toolbar')"
      ],
      "text/plain": [
       "<IPython.core.display.Javascript object>"
      ]
     },
     "execution_count": 3,
     "metadata": {},
     "output_type": "execute_result"
    }
   ],
   "source": [
    "Javascript(\"\"\"Jupyter.actions.call('jupyter-notebook:hide-toolbar')\"\"\")"
   ]
  },
  {
   "cell_type": "code",
   "execution_count": 4,
   "metadata": {},
   "outputs": [
    {
     "data": {
      "application/vnd.jupyter.widget-view+json": {
       "model_id": "ebbd25583d014439bb771260db454fc9",
       "version_major": 2,
       "version_minor": 0
      },
      "text/plain": [
       "HTML(value='<h1 style=\"text-align:center; width:100%;\"> Cours de Premiere NSI 2021/2022 </h1>')"
      ]
     },
     "metadata": {},
     "output_type": "display_data"
    }
   ],
   "source": [
    "display(HTML(\"\"\"<h1 style=\"text-align:center; width:100%;\"> Cours de Premiere NSI 2021/2022 </h1>\"\"\"))"
   ]
  },
  {
   "cell_type": "code",
   "execution_count": 6,
   "metadata": {},
   "outputs": [
    {
     "data": {
      "application/vnd.jupyter.widget-view+json": {
       "model_id": "139a92b20dd94fa18bb8dd4f0e75cb07",
       "version_major": 2,
       "version_minor": 0
      },
      "text/plain": [
       "HBox(children=(HTML(value='<a href=\"../apps/environnement.ipynb\" target=\"_blank\">Environnement Jupyter</a>'),)…"
      ]
     },
     "metadata": {},
     "output_type": "display_data"
    },
    {
     "data": {
      "application/vnd.jupyter.widget-view+json": {
       "model_id": "bbd5456413a6440ab1017dee8d5964de",
       "version_major": 2,
       "version_minor": 0
      },
      "text/plain": [
       "Accordion(children=(HBox(children=(HTML(value='<img src=\"https://upload.wikimedia.org/wikipedia/commons/thumb/…"
      ]
     },
     "metadata": {},
     "output_type": "display_data"
    }
   ],
   "source": [
    "def changeLinks(code):\n",
    "    liens = {}\n",
    "    images = {}\n",
    "    titres = {}\n",
    "    for root1, dirs1, files1 in os.walk(os.getcwd()): \n",
    "        for d in dirs1:\n",
    "            for root, dirs, files in os.walk(os.path.join(root1,d)):\n",
    "                if root[:21] == \"/home/jovyan/Chapitre\" and root[-2:].isnumeric():\n",
    "                    n = root[-2:]\n",
    "                    liens[n] = {}\n",
    "                    images[n] = None\n",
    "                    titres[n] = \"\"\n",
    "                    for i in files: \n",
    "                        f = os.path.join(root, i)\n",
    "                        if f[-6:] == \".ipynb\":\n",
    "                            num = i.split(\"_\")[0]\n",
    "                            #print(num)\n",
    "                            #print(i)\n",
    "                            \n",
    "                            num2 = num.split(\".\")\n",
    "                            if \"cor\" in num2:\n",
    "                                l = \"<ul>\"*len(num2)+\"<li>\"+\"\"\"<a href=\"../notebooks/{}\" target=\"_blank\" style=\"color:#FF0000\";>{}</a>\"\"\".format(f[13:],i[len(num)+1:-6])+\"</li>\"+\"</ul>\"*len(num2)+'</p>'\n",
    "                            elif \"app\" in num2:\n",
    "                                l = \"<ul>\"*len(num2)+\"<li>\"+\"\"\"<a href=\"../apps/{}\" target=\"_blank\" style=\"color:#00CC00\";>{}</a>\"\"\".format(f[13:],i[len(num)+1:-6])+\"</li>\"+\"</ul>\"*len(num2)\n",
    "                            else:\n",
    "                                l = \"<ul>\"*len(num2)+\"<li>\"+\"\"\"<a href=\"../notebooks/{}\" target=\"_blank\">{}</a>\"\"\".format(f[13:],i[len(num)+1:-6])+\"</li>\"+\"</ul>\"*len(num2)\n",
    "                            if num[-3:] == \"cor\":\n",
    "                                num = num[:-3]+\"0\"\n",
    "                            elif num[-3:] == \"app\":\n",
    "                                num = num[:-3]+\"00\"\n",
    "                            liens[n][num] = l\n",
    "                        elif f[-9:] == \"image.txt\":\n",
    "                            file = open(f)\n",
    "                            data = file.readline()\n",
    "                            file.close()\n",
    "                            images[n] = HTML(\n",
    "                                        value='<img src=\"{}\" width=\"400px\">'.format(data)\n",
    "                                        )\n",
    "                        elif f[-4:] == \".png\" or f[-4:] == \".jpg\":\n",
    "                            images[n] = Image(\n",
    "                                        value = open(f, \"rb\").read(),\n",
    "                                        format = f[-3:],\n",
    "                                        width = 400,\n",
    "                                        height = 400,\n",
    "                                        )\n",
    "                        elif f[-9:] == \"titre.txt\":\n",
    "                            file = open(f)\n",
    "                            data = file.readline()\n",
    "                            file.close()\n",
    "                            titres[n] = data\n",
    "                    \n",
    "        k = list(liens.keys())\n",
    "        k.sort()\n",
    "        liens2 = {}\n",
    "        for cle in k:\n",
    "            k2 = list(liens[cle].keys())\n",
    "            k2.sort()\n",
    "            l = \"\"\n",
    "            for cle2 in k2:\n",
    "                l += liens[cle][cle2]\n",
    "            liens2[cle] = l\n",
    "        return liens2,images,titres\n",
    "    \n",
    "liens,images,titres = changeLinks(0)\n",
    "#print(liens,images,titres)\n",
    "k = list(liens.keys())\n",
    "k.sort()\n",
    "children = [HBox([images[cle],HTML(liens[cle])]) for cle in k]    \n",
    "accordion = Accordion(children=children)\n",
    "i = 0\n",
    "for cle in k:\n",
    "    accordion.set_title(i,titres[cle])\n",
    "    i += 1\n",
    "    \n",
    "\n",
    "\n",
    "def change2(b):\n",
    "    global liens,bou4,accordion\n",
    "    if bou4.value == \"Original\":\n",
    "        liens,images,titres = changeLinks(0)\n",
    "    else:\n",
    "        liens,images,titres = changeLinks(bou4.value)\n",
    "    for i in range(len(accordion.children)):\n",
    "        accordion.children[i].children[1].value=liens[i]\n",
    "        \n",
    "    \n",
    "\n",
    "\n",
    "\n",
    "\n",
    "display(HBox([HTML(\"\"\"<a href=\"../apps/environnement.ipynb\" target=\"_blank\">Environnement Jupyter</a>\"\"\")]))\n",
    "display(accordion)"
   ]
  },
  {
   "cell_type": "code",
   "execution_count": 2,
   "metadata": {},
   "outputs": [
    {
     "data": {
      "text/plain": [
       "True"
      ]
     },
     "execution_count": 2,
     "metadata": {},
     "output_type": "execute_result"
    }
   ],
   "source": []
  }
 ],
 "metadata": {
  "kernelspec": {
   "display_name": "Python 3",
   "language": "python",
   "name": "python3"
  },
  "language_info": {
   "codemirror_mode": {
    "name": "ipython",
    "version": 3
   },
   "file_extension": ".py",
   "mimetype": "text/x-python",
   "name": "python",
   "nbconvert_exporter": "python",
   "pygments_lexer": "ipython3",
   "version": "3.9.2"
  },
  "varInspector": {
   "cols": {
    "lenName": 16,
    "lenType": 16,
    "lenVar": 40
   },
   "kernels_config": {
    "python": {
     "delete_cmd_postfix": "",
     "delete_cmd_prefix": "del ",
     "library": "var_list.py",
     "varRefreshCmd": "print(var_dic_list())"
    },
    "r": {
     "delete_cmd_postfix": ") ",
     "delete_cmd_prefix": "rm(",
     "library": "var_list.r",
     "varRefreshCmd": "cat(var_dic_list()) "
    }
   },
   "types_to_exclude": [
    "module",
    "function",
    "builtin_function_or_method",
    "instance",
    "_Feature"
   ],
   "window_display": false
  }
 },
 "nbformat": 4,
 "nbformat_minor": 4
}
